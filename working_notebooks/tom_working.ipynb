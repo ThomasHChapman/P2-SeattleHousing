{
 "cells": [
  {
   "cell_type": "markdown",
   "metadata": {},
   "source": [
    "# Pseudocode"
   ]
  },
  {
   "cell_type": "markdown",
   "metadata": {},
   "source": [
    " ## Cleaning:\n",
    "    - NaN/?/Blank\n",
    "        - waterfront\n",
    "        - view\n",
    "        - yr_rennovated\n",
    "        - sqft_basement\n",
    "    - whitespace *no issue\n",
    "    - format to int/float\n",
    "        - view\n",
    "        - waterfront\n",
    "        - condition\n",
    "        - grade\n",
    "        - sqft_basement\n",
    "    - deal with dupes\n",
    "        - several properties are listed more than once, suggesting they were bought/sold during this timeframe. \n",
    "    - categorical encoding\n",
    "        - bedrooms\n",
    "        - bathrooms\n",
    "        - floors\n",
    "        - zipcode\n",
    "        - waterfront\n",
    "        - view\n",
    "        - condition\n",
    "        - grade\n",
    "    - duplicate properties\n",
    "        - Located, need to decide how to treat. \n",
    "    - drop unused columns\n",
    "        - lat/long once done with all other steps. Technically this combination is categorical.\n",
    "        - date\n",
    "        - sqft_basement? - 454 records do not have a value here--we would need to drop these records at a minimum.\n",
    "    - save cleaned data\n",
    "    \n",
    "    \n",
    " ## Simple Model\n",
    "     - add features\n",
    "     - transform features (log transform?)\n",
    "     \n",
    "     \n",
    "     \n",
    " ## Business Problem/Stakeholders\n",
    " \n",
    " We (Antom Research) are based in King County and working on a project for a real estate investment trust. They would like us to use our area expertise to advise them on what sort of properties are likely to maximize the value of their investment. They have been tight-lipped about their plans for the properties they purchase, so we do not know if they intend to buy and hold, rennovate, demolish and rebuild, etc.\n",
    " \n",
    "   \n",
    "     \n",
    "     "
   ]
  },
  {
   "cell_type": "markdown",
   "metadata": {},
   "source": [
    "## Data Understanding"
   ]
  },
  {
   "cell_type": "markdown",
   "metadata": {},
   "source": [
    "## "
   ]
  },
  {
   "cell_type": "markdown",
   "metadata": {},
   "source": [
    "# Imports"
   ]
  },
  {
   "cell_type": "code",
   "execution_count": 1,
   "metadata": {},
   "outputs": [],
   "source": [
    "# Importing packages\n",
    "\n",
    "import pandas as pd\n",
    "import numpy as np\n",
    "import matplotlib.pyplot as plt\n",
    "%matplotlib inline\n",
    "import seaborn as sns\n",
    "import statsmodels.api as sm\n",
    "\n",
    "from sklearn.preprocessing import OrdinalEncoder\n",
    "from sklearn.preprocessing import OneHotEncoder\n",
    "from sklearn.preprocessing import LabelEncoder\n",
    "from sklearn.model_selection import train_test_split"
   ]
  },
  {
   "cell_type": "markdown",
   "metadata": {},
   "source": [
    "# Simple Data - omitted columns recommended in project description\n"
   ]
  },
  {
   "cell_type": "code",
   "execution_count": 2,
   "metadata": {},
   "outputs": [],
   "source": [
    "simple_housing = pd.read_csv('../data/kc_house_data.csv')"
   ]
  },
  {
   "cell_type": "code",
   "execution_count": 3,
   "metadata": {},
   "outputs": [],
   "source": [
    "complexities = ['date', 'view', 'sqft_above', 'sqft_basement', 'yr_renovated', 'zipcode', 'lat', 'long', 'sqft_living15', 'sqft_lot15']"
   ]
  },
  {
   "cell_type": "code",
   "execution_count": 4,
   "metadata": {},
   "outputs": [],
   "source": [
    "simple_housing.drop(columns=complexities, inplace=True)"
   ]
  },
  {
   "cell_type": "code",
   "execution_count": 5,
   "metadata": {},
   "outputs": [
    {
     "data": {
      "text/html": [
       "<div>\n",
       "<style scoped>\n",
       "    .dataframe tbody tr th:only-of-type {\n",
       "        vertical-align: middle;\n",
       "    }\n",
       "\n",
       "    .dataframe tbody tr th {\n",
       "        vertical-align: top;\n",
       "    }\n",
       "\n",
       "    .dataframe thead th {\n",
       "        text-align: right;\n",
       "    }\n",
       "</style>\n",
       "<table border=\"1\" class=\"dataframe\">\n",
       "  <thead>\n",
       "    <tr style=\"text-align: right;\">\n",
       "      <th></th>\n",
       "      <th>id</th>\n",
       "      <th>price</th>\n",
       "      <th>bedrooms</th>\n",
       "      <th>bathrooms</th>\n",
       "      <th>sqft_living</th>\n",
       "      <th>sqft_lot</th>\n",
       "      <th>floors</th>\n",
       "      <th>waterfront</th>\n",
       "      <th>condition</th>\n",
       "      <th>grade</th>\n",
       "      <th>yr_built</th>\n",
       "    </tr>\n",
       "  </thead>\n",
       "  <tbody>\n",
       "    <tr>\n",
       "      <th>0</th>\n",
       "      <td>7129300520</td>\n",
       "      <td>221900.0</td>\n",
       "      <td>3</td>\n",
       "      <td>1.00</td>\n",
       "      <td>1180</td>\n",
       "      <td>5650</td>\n",
       "      <td>1.0</td>\n",
       "      <td>NaN</td>\n",
       "      <td>Average</td>\n",
       "      <td>7 Average</td>\n",
       "      <td>1955</td>\n",
       "    </tr>\n",
       "    <tr>\n",
       "      <th>1</th>\n",
       "      <td>6414100192</td>\n",
       "      <td>538000.0</td>\n",
       "      <td>3</td>\n",
       "      <td>2.25</td>\n",
       "      <td>2570</td>\n",
       "      <td>7242</td>\n",
       "      <td>2.0</td>\n",
       "      <td>NO</td>\n",
       "      <td>Average</td>\n",
       "      <td>7 Average</td>\n",
       "      <td>1951</td>\n",
       "    </tr>\n",
       "    <tr>\n",
       "      <th>2</th>\n",
       "      <td>5631500400</td>\n",
       "      <td>180000.0</td>\n",
       "      <td>2</td>\n",
       "      <td>1.00</td>\n",
       "      <td>770</td>\n",
       "      <td>10000</td>\n",
       "      <td>1.0</td>\n",
       "      <td>NO</td>\n",
       "      <td>Average</td>\n",
       "      <td>6 Low Average</td>\n",
       "      <td>1933</td>\n",
       "    </tr>\n",
       "    <tr>\n",
       "      <th>3</th>\n",
       "      <td>2487200875</td>\n",
       "      <td>604000.0</td>\n",
       "      <td>4</td>\n",
       "      <td>3.00</td>\n",
       "      <td>1960</td>\n",
       "      <td>5000</td>\n",
       "      <td>1.0</td>\n",
       "      <td>NO</td>\n",
       "      <td>Very Good</td>\n",
       "      <td>7 Average</td>\n",
       "      <td>1965</td>\n",
       "    </tr>\n",
       "    <tr>\n",
       "      <th>4</th>\n",
       "      <td>1954400510</td>\n",
       "      <td>510000.0</td>\n",
       "      <td>3</td>\n",
       "      <td>2.00</td>\n",
       "      <td>1680</td>\n",
       "      <td>8080</td>\n",
       "      <td>1.0</td>\n",
       "      <td>NO</td>\n",
       "      <td>Average</td>\n",
       "      <td>8 Good</td>\n",
       "      <td>1987</td>\n",
       "    </tr>\n",
       "  </tbody>\n",
       "</table>\n",
       "</div>"
      ],
      "text/plain": [
       "           id     price  bedrooms  bathrooms  sqft_living  sqft_lot  floors  \\\n",
       "0  7129300520  221900.0         3       1.00         1180      5650     1.0   \n",
       "1  6414100192  538000.0         3       2.25         2570      7242     2.0   \n",
       "2  5631500400  180000.0         2       1.00          770     10000     1.0   \n",
       "3  2487200875  604000.0         4       3.00         1960      5000     1.0   \n",
       "4  1954400510  510000.0         3       2.00         1680      8080     1.0   \n",
       "\n",
       "  waterfront  condition          grade  yr_built  \n",
       "0        NaN    Average      7 Average      1955  \n",
       "1         NO    Average      7 Average      1951  \n",
       "2         NO    Average  6 Low Average      1933  \n",
       "3         NO  Very Good      7 Average      1965  \n",
       "4         NO    Average         8 Good      1987  "
      ]
     },
     "execution_count": 5,
     "metadata": {},
     "output_type": "execute_result"
    }
   ],
   "source": [
    "simple_housing.head()"
   ]
  },
  {
   "cell_type": "code",
   "execution_count": 6,
   "metadata": {},
   "outputs": [],
   "source": [
    "# Add price per square foot feature\n",
    "simple_housing['price_sqft'] = simple_housing['price'] / simple_housing['sqft_living']"
   ]
  },
  {
   "cell_type": "code",
   "execution_count": 7,
   "metadata": {},
   "outputs": [
    {
     "data": {
      "text/plain": [
       "id             0\n",
       "price          0\n",
       "bedrooms       0\n",
       "bathrooms      0\n",
       "sqft_living    0\n",
       "sqft_lot       0\n",
       "floors         0\n",
       "condition      0\n",
       "grade          0\n",
       "yr_built       0\n",
       "price_sqft     0\n",
       "dtype: int64"
      ]
     },
     "execution_count": 7,
     "metadata": {},
     "output_type": "execute_result"
    }
   ],
   "source": [
    "# drop waterfront & confirm no NaNs\n",
    "simple_housing = simple_housing.drop(columns='waterfront')\n",
    "simple_housing.isna().sum()"
   ]
  },
  {
   "cell_type": "code",
   "execution_count": 8,
   "metadata": {},
   "outputs": [],
   "source": [
    "# think about binning if we're going categorically. Sounds like numerical"
   ]
  },
  {
   "cell_type": "code",
   "execution_count": 9,
   "metadata": {},
   "outputs": [
    {
     "data": {
      "text/html": [
       "<div>\n",
       "<style scoped>\n",
       "    .dataframe tbody tr th:only-of-type {\n",
       "        vertical-align: middle;\n",
       "    }\n",
       "\n",
       "    .dataframe tbody tr th {\n",
       "        vertical-align: top;\n",
       "    }\n",
       "\n",
       "    .dataframe thead th {\n",
       "        text-align: right;\n",
       "    }\n",
       "</style>\n",
       "<table border=\"1\" class=\"dataframe\">\n",
       "  <thead>\n",
       "    <tr style=\"text-align: right;\">\n",
       "      <th></th>\n",
       "      <th>id</th>\n",
       "      <th>price</th>\n",
       "      <th>bedrooms</th>\n",
       "      <th>bathrooms</th>\n",
       "      <th>sqft_living</th>\n",
       "      <th>sqft_lot</th>\n",
       "      <th>floors</th>\n",
       "      <th>condition</th>\n",
       "      <th>grade</th>\n",
       "      <th>yr_built</th>\n",
       "      <th>price_sqft</th>\n",
       "    </tr>\n",
       "  </thead>\n",
       "  <tbody>\n",
       "    <tr>\n",
       "      <th>0</th>\n",
       "      <td>7129300520</td>\n",
       "      <td>221900.0</td>\n",
       "      <td>3</td>\n",
       "      <td>1.00</td>\n",
       "      <td>1180</td>\n",
       "      <td>5650</td>\n",
       "      <td>1.0</td>\n",
       "      <td>Average</td>\n",
       "      <td>7 Average</td>\n",
       "      <td>1955</td>\n",
       "      <td>188.050847</td>\n",
       "    </tr>\n",
       "    <tr>\n",
       "      <th>1</th>\n",
       "      <td>6414100192</td>\n",
       "      <td>538000.0</td>\n",
       "      <td>3</td>\n",
       "      <td>2.25</td>\n",
       "      <td>2570</td>\n",
       "      <td>7242</td>\n",
       "      <td>2.0</td>\n",
       "      <td>Average</td>\n",
       "      <td>7 Average</td>\n",
       "      <td>1951</td>\n",
       "      <td>209.338521</td>\n",
       "    </tr>\n",
       "    <tr>\n",
       "      <th>2</th>\n",
       "      <td>5631500400</td>\n",
       "      <td>180000.0</td>\n",
       "      <td>2</td>\n",
       "      <td>1.00</td>\n",
       "      <td>770</td>\n",
       "      <td>10000</td>\n",
       "      <td>1.0</td>\n",
       "      <td>Average</td>\n",
       "      <td>6 Low Average</td>\n",
       "      <td>1933</td>\n",
       "      <td>233.766234</td>\n",
       "    </tr>\n",
       "    <tr>\n",
       "      <th>3</th>\n",
       "      <td>2487200875</td>\n",
       "      <td>604000.0</td>\n",
       "      <td>4</td>\n",
       "      <td>3.00</td>\n",
       "      <td>1960</td>\n",
       "      <td>5000</td>\n",
       "      <td>1.0</td>\n",
       "      <td>Very Good</td>\n",
       "      <td>7 Average</td>\n",
       "      <td>1965</td>\n",
       "      <td>308.163265</td>\n",
       "    </tr>\n",
       "    <tr>\n",
       "      <th>4</th>\n",
       "      <td>1954400510</td>\n",
       "      <td>510000.0</td>\n",
       "      <td>3</td>\n",
       "      <td>2.00</td>\n",
       "      <td>1680</td>\n",
       "      <td>8080</td>\n",
       "      <td>1.0</td>\n",
       "      <td>Average</td>\n",
       "      <td>8 Good</td>\n",
       "      <td>1987</td>\n",
       "      <td>303.571429</td>\n",
       "    </tr>\n",
       "  </tbody>\n",
       "</table>\n",
       "</div>"
      ],
      "text/plain": [
       "           id     price  bedrooms  bathrooms  sqft_living  sqft_lot  floors  \\\n",
       "0  7129300520  221900.0         3       1.00         1180      5650     1.0   \n",
       "1  6414100192  538000.0         3       2.25         2570      7242     2.0   \n",
       "2  5631500400  180000.0         2       1.00          770     10000     1.0   \n",
       "3  2487200875  604000.0         4       3.00         1960      5000     1.0   \n",
       "4  1954400510  510000.0         3       2.00         1680      8080     1.0   \n",
       "\n",
       "   condition          grade  yr_built  price_sqft  \n",
       "0    Average      7 Average      1955  188.050847  \n",
       "1    Average      7 Average      1951  209.338521  \n",
       "2    Average  6 Low Average      1933  233.766234  \n",
       "3  Very Good      7 Average      1965  308.163265  \n",
       "4    Average         8 Good      1987  303.571429  "
      ]
     },
     "execution_count": 9,
     "metadata": {},
     "output_type": "execute_result"
    }
   ],
   "source": [
    "simple_housing.head()"
   ]
  },
  {
   "cell_type": "code",
   "execution_count": 10,
   "metadata": {},
   "outputs": [
    {
     "data": {
      "text/html": [
       "<div>\n",
       "<style scoped>\n",
       "    .dataframe tbody tr th:only-of-type {\n",
       "        vertical-align: middle;\n",
       "    }\n",
       "\n",
       "    .dataframe tbody tr th {\n",
       "        vertical-align: top;\n",
       "    }\n",
       "\n",
       "    .dataframe thead th {\n",
       "        text-align: right;\n",
       "    }\n",
       "</style>\n",
       "<table border=\"1\" class=\"dataframe\">\n",
       "  <thead>\n",
       "    <tr style=\"text-align: right;\">\n",
       "      <th></th>\n",
       "      <th>condition</th>\n",
       "      <th>grade</th>\n",
       "    </tr>\n",
       "  </thead>\n",
       "  <tbody>\n",
       "    <tr>\n",
       "      <th>0</th>\n",
       "      <td>Average</td>\n",
       "      <td>7 Average</td>\n",
       "    </tr>\n",
       "    <tr>\n",
       "      <th>1</th>\n",
       "      <td>Average</td>\n",
       "      <td>7 Average</td>\n",
       "    </tr>\n",
       "    <tr>\n",
       "      <th>2</th>\n",
       "      <td>Average</td>\n",
       "      <td>6 Low Average</td>\n",
       "    </tr>\n",
       "    <tr>\n",
       "      <th>3</th>\n",
       "      <td>Very Good</td>\n",
       "      <td>7 Average</td>\n",
       "    </tr>\n",
       "    <tr>\n",
       "      <th>4</th>\n",
       "      <td>Average</td>\n",
       "      <td>8 Good</td>\n",
       "    </tr>\n",
       "  </tbody>\n",
       "</table>\n",
       "</div>"
      ],
      "text/plain": [
       "   condition          grade\n",
       "0    Average      7 Average\n",
       "1    Average      7 Average\n",
       "2    Average  6 Low Average\n",
       "3  Very Good      7 Average\n",
       "4    Average         8 Good"
      ]
     },
     "execution_count": 10,
     "metadata": {},
     "output_type": "execute_result"
    }
   ],
   "source": [
    "# Identify catgeorical values & create new df with only the categorical columns.\n",
    "categoricals = ['condition', 'grade']\n",
    "cat_df = simple_housing[categoricals]\n",
    "cat_df.head()"
   ]
  },
  {
   "cell_type": "code",
   "execution_count": 11,
   "metadata": {},
   "outputs": [
    {
     "data": {
      "text/html": [
       "<div>\n",
       "<style scoped>\n",
       "    .dataframe tbody tr th:only-of-type {\n",
       "        vertical-align: middle;\n",
       "    }\n",
       "\n",
       "    .dataframe tbody tr th {\n",
       "        vertical-align: top;\n",
       "    }\n",
       "\n",
       "    .dataframe thead th {\n",
       "        text-align: right;\n",
       "    }\n",
       "</style>\n",
       "<table border=\"1\" class=\"dataframe\">\n",
       "  <thead>\n",
       "    <tr style=\"text-align: right;\">\n",
       "      <th></th>\n",
       "      <th>condition_Fair</th>\n",
       "      <th>condition_Good</th>\n",
       "      <th>condition_Poor</th>\n",
       "      <th>condition_Very Good</th>\n",
       "      <th>grade_11 Excellent</th>\n",
       "      <th>grade_12 Luxury</th>\n",
       "      <th>grade_13 Mansion</th>\n",
       "      <th>grade_3 Poor</th>\n",
       "      <th>grade_4 Low</th>\n",
       "      <th>grade_5 Fair</th>\n",
       "      <th>grade_6 Low Average</th>\n",
       "      <th>grade_7 Average</th>\n",
       "      <th>grade_8 Good</th>\n",
       "      <th>grade_9 Better</th>\n",
       "    </tr>\n",
       "  </thead>\n",
       "  <tbody>\n",
       "    <tr>\n",
       "      <th>0</th>\n",
       "      <td>0.0</td>\n",
       "      <td>0.0</td>\n",
       "      <td>0.0</td>\n",
       "      <td>0.0</td>\n",
       "      <td>0.0</td>\n",
       "      <td>0.0</td>\n",
       "      <td>0.0</td>\n",
       "      <td>0.0</td>\n",
       "      <td>0.0</td>\n",
       "      <td>0.0</td>\n",
       "      <td>0.0</td>\n",
       "      <td>1.0</td>\n",
       "      <td>0.0</td>\n",
       "      <td>0.0</td>\n",
       "    </tr>\n",
       "    <tr>\n",
       "      <th>1</th>\n",
       "      <td>0.0</td>\n",
       "      <td>0.0</td>\n",
       "      <td>0.0</td>\n",
       "      <td>0.0</td>\n",
       "      <td>0.0</td>\n",
       "      <td>0.0</td>\n",
       "      <td>0.0</td>\n",
       "      <td>0.0</td>\n",
       "      <td>0.0</td>\n",
       "      <td>0.0</td>\n",
       "      <td>0.0</td>\n",
       "      <td>1.0</td>\n",
       "      <td>0.0</td>\n",
       "      <td>0.0</td>\n",
       "    </tr>\n",
       "    <tr>\n",
       "      <th>2</th>\n",
       "      <td>0.0</td>\n",
       "      <td>0.0</td>\n",
       "      <td>0.0</td>\n",
       "      <td>0.0</td>\n",
       "      <td>0.0</td>\n",
       "      <td>0.0</td>\n",
       "      <td>0.0</td>\n",
       "      <td>0.0</td>\n",
       "      <td>0.0</td>\n",
       "      <td>0.0</td>\n",
       "      <td>1.0</td>\n",
       "      <td>0.0</td>\n",
       "      <td>0.0</td>\n",
       "      <td>0.0</td>\n",
       "    </tr>\n",
       "    <tr>\n",
       "      <th>3</th>\n",
       "      <td>0.0</td>\n",
       "      <td>0.0</td>\n",
       "      <td>0.0</td>\n",
       "      <td>1.0</td>\n",
       "      <td>0.0</td>\n",
       "      <td>0.0</td>\n",
       "      <td>0.0</td>\n",
       "      <td>0.0</td>\n",
       "      <td>0.0</td>\n",
       "      <td>0.0</td>\n",
       "      <td>0.0</td>\n",
       "      <td>1.0</td>\n",
       "      <td>0.0</td>\n",
       "      <td>0.0</td>\n",
       "    </tr>\n",
       "    <tr>\n",
       "      <th>4</th>\n",
       "      <td>0.0</td>\n",
       "      <td>0.0</td>\n",
       "      <td>0.0</td>\n",
       "      <td>0.0</td>\n",
       "      <td>0.0</td>\n",
       "      <td>0.0</td>\n",
       "      <td>0.0</td>\n",
       "      <td>0.0</td>\n",
       "      <td>0.0</td>\n",
       "      <td>0.0</td>\n",
       "      <td>0.0</td>\n",
       "      <td>0.0</td>\n",
       "      <td>1.0</td>\n",
       "      <td>0.0</td>\n",
       "    </tr>\n",
       "  </tbody>\n",
       "</table>\n",
       "</div>"
      ],
      "text/plain": [
       "   condition_Fair  condition_Good  condition_Poor  condition_Very Good  \\\n",
       "0             0.0             0.0             0.0                  0.0   \n",
       "1             0.0             0.0             0.0                  0.0   \n",
       "2             0.0             0.0             0.0                  0.0   \n",
       "3             0.0             0.0             0.0                  1.0   \n",
       "4             0.0             0.0             0.0                  0.0   \n",
       "\n",
       "   grade_11 Excellent  grade_12 Luxury  grade_13 Mansion  grade_3 Poor  \\\n",
       "0                 0.0              0.0               0.0           0.0   \n",
       "1                 0.0              0.0               0.0           0.0   \n",
       "2                 0.0              0.0               0.0           0.0   \n",
       "3                 0.0              0.0               0.0           0.0   \n",
       "4                 0.0              0.0               0.0           0.0   \n",
       "\n",
       "   grade_4 Low  grade_5 Fair  grade_6 Low Average  grade_7 Average  \\\n",
       "0          0.0           0.0                  0.0              1.0   \n",
       "1          0.0           0.0                  0.0              1.0   \n",
       "2          0.0           0.0                  1.0              0.0   \n",
       "3          0.0           0.0                  0.0              1.0   \n",
       "4          0.0           0.0                  0.0              0.0   \n",
       "\n",
       "   grade_8 Good  grade_9 Better  \n",
       "0           0.0             0.0  \n",
       "1           0.0             0.0  \n",
       "2           0.0             0.0  \n",
       "3           0.0             0.0  \n",
       "4           1.0             0.0  "
      ]
     },
     "execution_count": 11,
     "metadata": {},
     "output_type": "execute_result"
    }
   ],
   "source": [
    "# OneHot encoding for categorical variables. Drop first column to avoid perfect multicolinearity.\n",
    "ohe = OneHotEncoder(drop='first')\n",
    "categorical_cats = ohe.fit_transform(cat_df)\n",
    "categorical_cats.todense()\n",
    "categorical_df = pd.DataFrame(categorical_cats.todense(), columns=ohe.get_feature_names(categoricals))\n",
    "categorical_df.head()"
   ]
  },
  {
   "cell_type": "code",
   "execution_count": 12,
   "metadata": {},
   "outputs": [
    {
     "name": "stdout",
     "output_type": "stream",
     "text": [
      "(21597, 14)\n",
      "(21597, 11)\n"
     ]
    }
   ],
   "source": [
    "# Confirm identical # of records before concatenating.\n",
    "print(categorical_df.shape)\n",
    "print(simple_housing.shape)"
   ]
  },
  {
   "cell_type": "code",
   "execution_count": 13,
   "metadata": {},
   "outputs": [],
   "source": [
    "# Drop origical categorical columns, concatenate encoded columns.\n",
    "data = simple_housing.drop(columns=categoricals)\n",
    "kc_encoded = pd.concat([data.reset_index(drop=True), categorical_df.reset_index(drop=True)], axis=1)"
   ]
  },
  {
   "cell_type": "code",
   "execution_count": 14,
   "metadata": {},
   "outputs": [
    {
     "name": "stdout",
     "output_type": "stream",
     "text": [
      "(21597, 23)\n",
      "<class 'pandas.core.frame.DataFrame'>\n",
      "RangeIndex: 21597 entries, 0 to 21596\n",
      "Data columns (total 23 columns):\n",
      " #   Column               Non-Null Count  Dtype  \n",
      "---  ------               --------------  -----  \n",
      " 0   id                   21597 non-null  int64  \n",
      " 1   price                21597 non-null  float64\n",
      " 2   bedrooms             21597 non-null  int64  \n",
      " 3   bathrooms            21597 non-null  float64\n",
      " 4   sqft_living          21597 non-null  int64  \n",
      " 5   sqft_lot             21597 non-null  int64  \n",
      " 6   floors               21597 non-null  float64\n",
      " 7   yr_built             21597 non-null  int64  \n",
      " 8   price_sqft           21597 non-null  float64\n",
      " 9   condition_Fair       21597 non-null  float64\n",
      " 10  condition_Good       21597 non-null  float64\n",
      " 11  condition_Poor       21597 non-null  float64\n",
      " 12  condition_Very Good  21597 non-null  float64\n",
      " 13  grade_11 Excellent   21597 non-null  float64\n",
      " 14  grade_12 Luxury      21597 non-null  float64\n",
      " 15  grade_13 Mansion     21597 non-null  float64\n",
      " 16  grade_3 Poor         21597 non-null  float64\n",
      " 17  grade_4 Low          21597 non-null  float64\n",
      " 18  grade_5 Fair         21597 non-null  float64\n",
      " 19  grade_6 Low Average  21597 non-null  float64\n",
      " 20  grade_7 Average      21597 non-null  float64\n",
      " 21  grade_8 Good         21597 non-null  float64\n",
      " 22  grade_9 Better       21597 non-null  float64\n",
      "dtypes: float64(18), int64(5)\n",
      "memory usage: 3.8 MB\n"
     ]
    }
   ],
   "source": [
    "# Confirm no new records added & categoricals are gone.\n",
    "print(kc_encoded.shape)\n",
    "kc_encoded.info()"
   ]
  },
  {
   "cell_type": "code",
   "execution_count": 15,
   "metadata": {},
   "outputs": [],
   "source": [
    "# Save off encoded data\n",
    "kc_encoded.to_csv('../data/kc_encoded.csv')"
   ]
  },
  {
   "cell_type": "markdown",
   "metadata": {},
   "source": [
    "## Exploring kc_encoded"
   ]
  },
  {
   "cell_type": "code",
   "execution_count": 20,
   "metadata": {},
   "outputs": [],
   "source": [
    "# define X, y\n",
    "X = kc_encoded.drop(columns=['price_sqft', 'id'])\n",
    "y = kc_encoded['price_sqft']"
   ]
  },
  {
   "cell_type": "code",
   "execution_count": 21,
   "metadata": {},
   "outputs": [],
   "source": [
    "# Train / Test split\n",
    "X_train, X_test, y_train, y_test = train_test_split(\n",
    "    X, y, test_size=0.33, random_state=42)"
   ]
  },
  {
   "cell_type": "code",
   "execution_count": 22,
   "metadata": {},
   "outputs": [
    {
     "data": {
      "text/plain": [
       "(14469, 22)"
      ]
     },
     "execution_count": 22,
     "metadata": {},
     "output_type": "execute_result"
    }
   ],
   "source": [
    "# Train df so we can see X vs Y in training data.\n",
    "train_df = pd.concat([X_train, y_train], axis=1)\n",
    "train_df.shape"
   ]
  },
  {
   "cell_type": "code",
   "execution_count": 23,
   "metadata": {},
   "outputs": [
    {
     "data": {
      "text/plain": [
       "price_sqft             1.000000\n",
       "price                  0.556867\n",
       "grade_11 Excellent     0.105241\n",
       "condition_Very Good    0.098920\n",
       "grade_12 Luxury        0.082054\n",
       "grade_13 Mansion       0.054713\n",
       "condition_Good         0.038213\n",
       "grade_9 Better         0.036359\n",
       "grade_6 Low Average    0.022802\n",
       "grade_3 Poor           0.018028\n",
       "grade_4 Low            0.016807\n",
       "grade_5 Fair           0.016577\n",
       "floors                 0.004524\n",
       "condition_Poor        -0.009636\n",
       "condition_Fair        -0.022040\n",
       "grade_8 Good          -0.038793\n",
       "sqft_lot              -0.040317\n",
       "bathrooms             -0.086735\n",
       "sqft_living           -0.091328\n",
       "grade_7 Average       -0.092049\n",
       "bedrooms              -0.211009\n",
       "yr_built              -0.296771\n",
       "Name: price_sqft, dtype: float64"
      ]
     },
     "execution_count": 23,
     "metadata": {},
     "output_type": "execute_result"
    }
   ],
   "source": [
    "train_df.corr().price_sqft.sort_values(ascending=False)"
   ]
  },
  {
   "cell_type": "code",
   "execution_count": 34,
   "metadata": {},
   "outputs": [],
   "source": [
    "# add constant term/y-intercept\n",
    "predictors = sm.add_constant(train_df)"
   ]
  },
  {
   "cell_type": "code",
   "execution_count": 39,
   "metadata": {
    "scrolled": false
   },
   "outputs": [
    {
     "data": {
      "text/html": [
       "<table class=\"simpletable\">\n",
       "<caption>OLS Regression Results</caption>\n",
       "<tr>\n",
       "  <th>Dep. Variable:</th>       <td>price_sqft</td>    <th>  R-squared (uncentered):</th>      <td>   0.967</td> \n",
       "</tr>\n",
       "<tr>\n",
       "  <th>Model:</th>                   <td>OLS</td>       <th>  Adj. R-squared (uncentered):</th> <td>   0.967</td> \n",
       "</tr>\n",
       "<tr>\n",
       "  <th>Method:</th>             <td>Least Squares</td>  <th>  F-statistic:       </th>          <td>2.038e+04</td>\n",
       "</tr>\n",
       "<tr>\n",
       "  <th>Date:</th>             <td>Tue, 21 Jun 2022</td> <th>  Prob (F-statistic):</th>           <td>  0.00</td>  \n",
       "</tr>\n",
       "<tr>\n",
       "  <th>Time:</th>                 <td>14:25:30</td>     <th>  Log-Likelihood:    </th>          <td> -77627.</td> \n",
       "</tr>\n",
       "<tr>\n",
       "  <th>No. Observations:</th>      <td> 14469</td>      <th>  AIC:               </th>          <td>1.553e+05</td>\n",
       "</tr>\n",
       "<tr>\n",
       "  <th>Df Residuals:</th>          <td> 14448</td>      <th>  BIC:               </th>          <td>1.555e+05</td>\n",
       "</tr>\n",
       "<tr>\n",
       "  <th>Df Model:</th>              <td>    21</td>      <th>                     </th>              <td> </td>    \n",
       "</tr>\n",
       "<tr>\n",
       "  <th>Covariance Type:</th>      <td>nonrobust</td>    <th>                     </th>              <td> </td>    \n",
       "</tr>\n",
       "</table>\n",
       "<table class=\"simpletable\">\n",
       "<tr>\n",
       "           <td></td>              <th>coef</th>     <th>std err</th>      <th>t</th>      <th>P>|t|</th>  <th>[0.025</th>    <th>0.975]</th>  \n",
       "</tr>\n",
       "<tr>\n",
       "  <th>price</th>               <td>    0.0004</td> <td> 1.84e-06</td> <td>  205.925</td> <td> 0.000</td> <td>    0.000</td> <td>    0.000</td>\n",
       "</tr>\n",
       "<tr>\n",
       "  <th>bedrooms</th>            <td>   -6.0860</td> <td>    0.625</td> <td>   -9.737</td> <td> 0.000</td> <td>   -7.311</td> <td>   -4.861</td>\n",
       "</tr>\n",
       "<tr>\n",
       "  <th>bathrooms</th>           <td>  -12.5108</td> <td>    0.980</td> <td>  -12.760</td> <td> 0.000</td> <td>  -14.433</td> <td>  -10.589</td>\n",
       "</tr>\n",
       "<tr>\n",
       "  <th>sqft_living</th>         <td>   -0.1073</td> <td>    0.001</td> <td> -103.453</td> <td> 0.000</td> <td>   -0.109</td> <td>   -0.105</td>\n",
       "</tr>\n",
       "<tr>\n",
       "  <th>sqft_lot</th>            <td> 6.251e-05</td> <td> 1.08e-05</td> <td>    5.797</td> <td> 0.000</td> <td> 4.14e-05</td> <td> 8.36e-05</td>\n",
       "</tr>\n",
       "<tr>\n",
       "  <th>floors</th>              <td>    3.6145</td> <td>    1.003</td> <td>    3.604</td> <td> 0.000</td> <td>    1.648</td> <td>    5.581</td>\n",
       "</tr>\n",
       "<tr>\n",
       "  <th>yr_built</th>            <td>    0.1650</td> <td>    0.002</td> <td>   84.394</td> <td> 0.000</td> <td>    0.161</td> <td>    0.169</td>\n",
       "</tr>\n",
       "<tr>\n",
       "  <th>condition_Fair</th>      <td>  -20.3206</td> <td>    4.848</td> <td>   -4.191</td> <td> 0.000</td> <td>  -29.824</td> <td>  -10.818</td>\n",
       "</tr>\n",
       "<tr>\n",
       "  <th>condition_Good</th>      <td>    2.4243</td> <td>    1.053</td> <td>    2.301</td> <td> 0.021</td> <td>    0.359</td> <td>    4.489</td>\n",
       "</tr>\n",
       "<tr>\n",
       "  <th>condition_Poor</th>      <td>  -20.2529</td> <td>   12.689</td> <td>   -1.596</td> <td> 0.111</td> <td>  -45.126</td> <td>    4.620</td>\n",
       "</tr>\n",
       "<tr>\n",
       "  <th>condition_Very Good</th> <td>    7.4226</td> <td>    1.676</td> <td>    4.430</td> <td> 0.000</td> <td>    4.138</td> <td>   10.707</td>\n",
       "</tr>\n",
       "<tr>\n",
       "  <th>grade_11 Excellent</th>  <td>  -21.5746</td> <td>    3.765</td> <td>   -5.730</td> <td> 0.000</td> <td>  -28.954</td> <td>  -14.195</td>\n",
       "</tr>\n",
       "<tr>\n",
       "  <th>grade_12 Luxury</th>     <td> -103.8041</td> <td>    7.173</td> <td>  -14.471</td> <td> 0.000</td> <td> -117.865</td> <td>  -89.743</td>\n",
       "</tr>\n",
       "<tr>\n",
       "  <th>grade_13 Mansion</th>    <td> -451.7444</td> <td>   20.384</td> <td>  -22.162</td> <td> 0.000</td> <td> -491.699</td> <td> -411.790</td>\n",
       "</tr>\n",
       "<tr>\n",
       "  <th>grade_3 Poor</th>        <td>  147.4734</td> <td>   51.889</td> <td>    2.842</td> <td> 0.004</td> <td>   45.764</td> <td>  249.182</td>\n",
       "</tr>\n",
       "<tr>\n",
       "  <th>grade_4 Low</th>         <td>   20.0983</td> <td>   13.299</td> <td>    1.511</td> <td> 0.131</td> <td>   -5.970</td> <td>   46.166</td>\n",
       "</tr>\n",
       "<tr>\n",
       "  <th>grade_5 Fair</th>        <td>   -2.9783</td> <td>    4.950</td> <td>   -0.602</td> <td> 0.547</td> <td>  -12.681</td> <td>    6.724</td>\n",
       "</tr>\n",
       "<tr>\n",
       "  <th>grade_6 Low Average</th> <td>   -9.2862</td> <td>    3.079</td> <td>   -3.016</td> <td> 0.003</td> <td>  -15.321</td> <td>   -3.251</td>\n",
       "</tr>\n",
       "<tr>\n",
       "  <th>grade_7 Average</th>     <td>   -6.4148</td> <td>    2.578</td> <td>   -2.488</td> <td> 0.013</td> <td>  -11.468</td> <td>   -1.362</td>\n",
       "</tr>\n",
       "<tr>\n",
       "  <th>grade_8 Good</th>        <td>    3.0389</td> <td>    2.366</td> <td>    1.284</td> <td> 0.199</td> <td>   -1.598</td> <td>    7.676</td>\n",
       "</tr>\n",
       "<tr>\n",
       "  <th>grade_9 Better</th>      <td>   10.9459</td> <td>    2.331</td> <td>    4.697</td> <td> 0.000</td> <td>    6.378</td> <td>   15.514</td>\n",
       "</tr>\n",
       "</table>\n",
       "<table class=\"simpletable\">\n",
       "<tr>\n",
       "  <th>Omnibus:</th>       <td>4116.622</td> <th>  Durbin-Watson:     </th>  <td>   1.999</td> \n",
       "</tr>\n",
       "<tr>\n",
       "  <th>Prob(Omnibus):</th>  <td> 0.000</td>  <th>  Jarque-Bera (JB):  </th> <td>131953.178</td>\n",
       "</tr>\n",
       "<tr>\n",
       "  <th>Skew:</th>           <td> 0.727</td>  <th>  Prob(JB):          </th>  <td>    0.00</td> \n",
       "</tr>\n",
       "<tr>\n",
       "  <th>Kurtosis:</th>       <td>17.723</td>  <th>  Cond. No.          </th>  <td>7.92e+07</td> \n",
       "</tr>\n",
       "</table><br/><br/>Notes:<br/>[1] R² is computed without centering (uncentered) since the model does not contain a constant.<br/>[2] Standard Errors assume that the covariance matrix of the errors is correctly specified.<br/>[3] The condition number is large, 7.92e+07. This might indicate that there are<br/>strong multicollinearity or other numerical problems."
      ],
      "text/plain": [
       "<class 'statsmodels.iolib.summary.Summary'>\n",
       "\"\"\"\n",
       "                                 OLS Regression Results                                \n",
       "=======================================================================================\n",
       "Dep. Variable:             price_sqft   R-squared (uncentered):                   0.967\n",
       "Model:                            OLS   Adj. R-squared (uncentered):              0.967\n",
       "Method:                 Least Squares   F-statistic:                          2.038e+04\n",
       "Date:                Tue, 21 Jun 2022   Prob (F-statistic):                        0.00\n",
       "Time:                        14:25:30   Log-Likelihood:                         -77627.\n",
       "No. Observations:               14469   AIC:                                  1.553e+05\n",
       "Df Residuals:                   14448   BIC:                                  1.555e+05\n",
       "Df Model:                          21                                                  \n",
       "Covariance Type:            nonrobust                                                  \n",
       "=======================================================================================\n",
       "                          coef    std err          t      P>|t|      [0.025      0.975]\n",
       "---------------------------------------------------------------------------------------\n",
       "price                   0.0004   1.84e-06    205.925      0.000       0.000       0.000\n",
       "bedrooms               -6.0860      0.625     -9.737      0.000      -7.311      -4.861\n",
       "bathrooms             -12.5108      0.980    -12.760      0.000     -14.433     -10.589\n",
       "sqft_living            -0.1073      0.001   -103.453      0.000      -0.109      -0.105\n",
       "sqft_lot             6.251e-05   1.08e-05      5.797      0.000    4.14e-05    8.36e-05\n",
       "floors                  3.6145      1.003      3.604      0.000       1.648       5.581\n",
       "yr_built                0.1650      0.002     84.394      0.000       0.161       0.169\n",
       "condition_Fair        -20.3206      4.848     -4.191      0.000     -29.824     -10.818\n",
       "condition_Good          2.4243      1.053      2.301      0.021       0.359       4.489\n",
       "condition_Poor        -20.2529     12.689     -1.596      0.111     -45.126       4.620\n",
       "condition_Very Good     7.4226      1.676      4.430      0.000       4.138      10.707\n",
       "grade_11 Excellent    -21.5746      3.765     -5.730      0.000     -28.954     -14.195\n",
       "grade_12 Luxury      -103.8041      7.173    -14.471      0.000    -117.865     -89.743\n",
       "grade_13 Mansion     -451.7444     20.384    -22.162      0.000    -491.699    -411.790\n",
       "grade_3 Poor          147.4734     51.889      2.842      0.004      45.764     249.182\n",
       "grade_4 Low            20.0983     13.299      1.511      0.131      -5.970      46.166\n",
       "grade_5 Fair           -2.9783      4.950     -0.602      0.547     -12.681       6.724\n",
       "grade_6 Low Average    -9.2862      3.079     -3.016      0.003     -15.321      -3.251\n",
       "grade_7 Average        -6.4148      2.578     -2.488      0.013     -11.468      -1.362\n",
       "grade_8 Good            3.0389      2.366      1.284      0.199      -1.598       7.676\n",
       "grade_9 Better         10.9459      2.331      4.697      0.000       6.378      15.514\n",
       "==============================================================================\n",
       "Omnibus:                     4116.622   Durbin-Watson:                   1.999\n",
       "Prob(Omnibus):                  0.000   Jarque-Bera (JB):           131953.178\n",
       "Skew:                           0.727   Prob(JB):                         0.00\n",
       "Kurtosis:                      17.723   Cond. No.                     7.92e+07\n",
       "==============================================================================\n",
       "\n",
       "Notes:\n",
       "[1] R² is computed without centering (uncentered) since the model does not contain a constant.\n",
       "[2] Standard Errors assume that the covariance matrix of the errors is correctly specified.\n",
       "[3] The condition number is large, 7.92e+07. This might indicate that there are\n",
       "strong multicollinearity or other numerical problems.\n",
       "\"\"\""
      ]
     },
     "execution_count": 39,
     "metadata": {},
     "output_type": "execute_result"
    }
   ],
   "source": [
    "X = train_df.drop(columns=['price_sqft'])\n",
    "y = train_df['price_sqft']\n",
    "model = sm.OLS(endog=y, exog=X).fit()\n",
    "model.summary()"
   ]
  },
  {
   "cell_type": "code",
   "execution_count": 36,
   "metadata": {},
   "outputs": [
    {
     "data": {
      "image/png": "[encoded data removed]",
      "text/plain": [
       "<Figure size 432x288 with 1 Axes>"
      ]
     },
     "metadata": {
      "needs_background": "light"
     },
     "output_type": "display_data"
    }
   ],
   "source": [
    "y.hist();"
   ]
  },
  {
   "cell_type": "code",
   "execution_count": 37,
   "metadata": {},
   "outputs": [
    {
     "data": {
      "image/png": "[encoded data removed]",
      "text/plain": [
       "<Figure size 432x288 with 1 Axes>"
      ]
     },
     "metadata": {
      "needs_background": "light"
     },
     "output_type": "display_data"
    }
   ],
   "source": [
    "y_scld=np.log(y)\n",
    "y_scld.hist();"
   ]
  },
  {
   "cell_type": "code",
   "execution_count": 38,
   "metadata": {},
   "outputs": [
    {
     "data": {
      "text/html": [
       "<table class=\"simpletable\">\n",
       "<caption>OLS Regression Results</caption>\n",
       "<tr>\n",
       "  <th>Dep. Variable:</th>       <td>price_sqft</td>    <th>  R-squared (uncentered):</th>      <td>   0.998</td> \n",
       "</tr>\n",
       "<tr>\n",
       "  <th>Model:</th>                   <td>OLS</td>       <th>  Adj. R-squared (uncentered):</th> <td>   0.998</td> \n",
       "</tr>\n",
       "<tr>\n",
       "  <th>Method:</th>             <td>Least Squares</td>  <th>  F-statistic:       </th>          <td>4.437e+05</td>\n",
       "</tr>\n",
       "<tr>\n",
       "  <th>Date:</th>             <td>Tue, 21 Jun 2022</td> <th>  Prob (F-statistic):</th>           <td>  0.00</td>  \n",
       "</tr>\n",
       "<tr>\n",
       "  <th>Time:</th>                 <td>14:25:13</td>     <th>  Log-Likelihood:    </th>          <td>  1586.8</td> \n",
       "</tr>\n",
       "<tr>\n",
       "  <th>No. Observations:</th>      <td> 14469</td>      <th>  AIC:               </th>          <td>  -3132.</td> \n",
       "</tr>\n",
       "<tr>\n",
       "  <th>Df Residuals:</th>          <td> 14448</td>      <th>  BIC:               </th>          <td>  -2972.</td> \n",
       "</tr>\n",
       "<tr>\n",
       "  <th>Df Model:</th>              <td>    21</td>      <th>                     </th>              <td> </td>    \n",
       "</tr>\n",
       "<tr>\n",
       "  <th>Covariance Type:</th>      <td>nonrobust</td>    <th>                     </th>              <td> </td>    \n",
       "</tr>\n",
       "</table>\n",
       "<table class=\"simpletable\">\n",
       "<tr>\n",
       "           <td></td>              <th>coef</th>     <th>std err</th>      <th>t</th>      <th>P>|t|</th>  <th>[0.025</th>    <th>0.975]</th>  \n",
       "</tr>\n",
       "<tr>\n",
       "  <th>price</th>               <td> 1.378e-06</td> <td>  7.7e-09</td> <td>  179.006</td> <td> 0.000</td> <td> 1.36e-06</td> <td> 1.39e-06</td>\n",
       "</tr>\n",
       "<tr>\n",
       "  <th>bedrooms</th>            <td>   -0.0157</td> <td>    0.003</td> <td>   -6.000</td> <td> 0.000</td> <td>   -0.021</td> <td>   -0.011</td>\n",
       "</tr>\n",
       "<tr>\n",
       "  <th>bathrooms</th>           <td>   -0.0711</td> <td>    0.004</td> <td>  -17.293</td> <td> 0.000</td> <td>   -0.079</td> <td>   -0.063</td>\n",
       "</tr>\n",
       "<tr>\n",
       "  <th>sqft_living</th>         <td>   -0.0004</td> <td> 4.35e-06</td> <td>  -90.307</td> <td> 0.000</td> <td>   -0.000</td> <td>   -0.000</td>\n",
       "</tr>\n",
       "<tr>\n",
       "  <th>sqft_lot</th>            <td> 2.804e-07</td> <td> 4.52e-08</td> <td>    6.204</td> <td> 0.000</td> <td> 1.92e-07</td> <td> 3.69e-07</td>\n",
       "</tr>\n",
       "<tr>\n",
       "  <th>floors</th>              <td>   -0.0020</td> <td>    0.004</td> <td>   -0.485</td> <td> 0.627</td> <td>   -0.010</td> <td>    0.006</td>\n",
       "</tr>\n",
       "<tr>\n",
       "  <th>yr_built</th>            <td>    0.0029</td> <td> 8.19e-06</td> <td>  356.086</td> <td> 0.000</td> <td>    0.003</td> <td>    0.003</td>\n",
       "</tr>\n",
       "<tr>\n",
       "  <th>condition_Fair</th>      <td>   -0.0788</td> <td>    0.020</td> <td>   -3.878</td> <td> 0.000</td> <td>   -0.119</td> <td>   -0.039</td>\n",
       "</tr>\n",
       "<tr>\n",
       "  <th>condition_Good</th>      <td>    0.0324</td> <td>    0.004</td> <td>    7.346</td> <td> 0.000</td> <td>    0.024</td> <td>    0.041</td>\n",
       "</tr>\n",
       "<tr>\n",
       "  <th>condition_Poor</th>      <td>   -0.0524</td> <td>    0.053</td> <td>   -0.984</td> <td> 0.325</td> <td>   -0.157</td> <td>    0.052</td>\n",
       "</tr>\n",
       "<tr>\n",
       "  <th>condition_Very Good</th> <td>    0.0926</td> <td>    0.007</td> <td>   13.186</td> <td> 0.000</td> <td>    0.079</td> <td>    0.106</td>\n",
       "</tr>\n",
       "<tr>\n",
       "  <th>grade_11 Excellent</th>  <td>   -0.0875</td> <td>    0.016</td> <td>   -5.543</td> <td> 0.000</td> <td>   -0.118</td> <td>   -0.057</td>\n",
       "</tr>\n",
       "<tr>\n",
       "  <th>grade_12 Luxury</th>     <td>   -0.4122</td> <td>    0.030</td> <td>  -13.710</td> <td> 0.000</td> <td>   -0.471</td> <td>   -0.353</td>\n",
       "</tr>\n",
       "<tr>\n",
       "  <th>grade_13 Mansion</th>    <td>   -1.8021</td> <td>    0.085</td> <td>  -21.093</td> <td> 0.000</td> <td>   -1.970</td> <td>   -1.635</td>\n",
       "</tr>\n",
       "<tr>\n",
       "  <th>grade_3 Poor</th>        <td>    0.4391</td> <td>    0.217</td> <td>    2.019</td> <td> 0.044</td> <td>    0.013</td> <td>    0.865</td>\n",
       "</tr>\n",
       "<tr>\n",
       "  <th>grade_4 Low</th>         <td>    0.0609</td> <td>    0.056</td> <td>    1.092</td> <td> 0.275</td> <td>   -0.048</td> <td>    0.170</td>\n",
       "</tr>\n",
       "<tr>\n",
       "  <th>grade_5 Fair</th>        <td>    0.0021</td> <td>    0.021</td> <td>    0.103</td> <td> 0.918</td> <td>   -0.039</td> <td>    0.043</td>\n",
       "</tr>\n",
       "<tr>\n",
       "  <th>grade_6 Low Average</th> <td>    0.0049</td> <td>    0.013</td> <td>    0.378</td> <td> 0.706</td> <td>   -0.020</td> <td>    0.030</td>\n",
       "</tr>\n",
       "<tr>\n",
       "  <th>grade_7 Average</th>     <td>   -0.0085</td> <td>    0.011</td> <td>   -0.784</td> <td> 0.433</td> <td>   -0.030</td> <td>    0.013</td>\n",
       "</tr>\n",
       "<tr>\n",
       "  <th>grade_8 Good</th>        <td>    0.0245</td> <td>    0.010</td> <td>    2.474</td> <td> 0.013</td> <td>    0.005</td> <td>    0.044</td>\n",
       "</tr>\n",
       "<tr>\n",
       "  <th>grade_9 Better</th>      <td>    0.0526</td> <td>    0.010</td> <td>    5.380</td> <td> 0.000</td> <td>    0.033</td> <td>    0.072</td>\n",
       "</tr>\n",
       "</table>\n",
       "<table class=\"simpletable\">\n",
       "<tr>\n",
       "  <th>Omnibus:</th>       <td>4760.913</td> <th>  Durbin-Watson:     </th> <td>   1.995</td> \n",
       "</tr>\n",
       "<tr>\n",
       "  <th>Prob(Omnibus):</th>  <td> 0.000</td>  <th>  Jarque-Bera (JB):  </th> <td>82637.572</td>\n",
       "</tr>\n",
       "<tr>\n",
       "  <th>Skew:</th>           <td>-1.126</td>  <th>  Prob(JB):          </th> <td>    0.00</td> \n",
       "</tr>\n",
       "<tr>\n",
       "  <th>Kurtosis:</th>       <td>14.489</td>  <th>  Cond. No.          </th> <td>7.92e+07</td> \n",
       "</tr>\n",
       "</table><br/><br/>Notes:<br/>[1] R² is computed without centering (uncentered) since the model does not contain a constant.<br/>[2] Standard Errors assume that the covariance matrix of the errors is correctly specified.<br/>[3] The condition number is large, 7.92e+07. This might indicate that there are<br/>strong multicollinearity or other numerical problems."
      ],
      "text/plain": [
       "<class 'statsmodels.iolib.summary.Summary'>\n",
       "\"\"\"\n",
       "                                 OLS Regression Results                                \n",
       "=======================================================================================\n",
       "Dep. Variable:             price_sqft   R-squared (uncentered):                   0.998\n",
       "Model:                            OLS   Adj. R-squared (uncentered):              0.998\n",
       "Method:                 Least Squares   F-statistic:                          4.437e+05\n",
       "Date:                Tue, 21 Jun 2022   Prob (F-statistic):                        0.00\n",
       "Time:                        14:25:13   Log-Likelihood:                          1586.8\n",
       "No. Observations:               14469   AIC:                                     -3132.\n",
       "Df Residuals:                   14448   BIC:                                     -2972.\n",
       "Df Model:                          21                                                  \n",
       "Covariance Type:            nonrobust                                                  \n",
       "=======================================================================================\n",
       "                          coef    std err          t      P>|t|      [0.025      0.975]\n",
       "---------------------------------------------------------------------------------------\n",
       "price                1.378e-06    7.7e-09    179.006      0.000    1.36e-06    1.39e-06\n",
       "bedrooms               -0.0157      0.003     -6.000      0.000      -0.021      -0.011\n",
       "bathrooms              -0.0711      0.004    -17.293      0.000      -0.079      -0.063\n",
       "sqft_living            -0.0004   4.35e-06    -90.307      0.000      -0.000      -0.000\n",
       "sqft_lot             2.804e-07   4.52e-08      6.204      0.000    1.92e-07    3.69e-07\n",
       "floors                 -0.0020      0.004     -0.485      0.627      -0.010       0.006\n",
       "yr_built                0.0029   8.19e-06    356.086      0.000       0.003       0.003\n",
       "condition_Fair         -0.0788      0.020     -3.878      0.000      -0.119      -0.039\n",
       "condition_Good          0.0324      0.004      7.346      0.000       0.024       0.041\n",
       "condition_Poor         -0.0524      0.053     -0.984      0.325      -0.157       0.052\n",
       "condition_Very Good     0.0926      0.007     13.186      0.000       0.079       0.106\n",
       "grade_11 Excellent     -0.0875      0.016     -5.543      0.000      -0.118      -0.057\n",
       "grade_12 Luxury        -0.4122      0.030    -13.710      0.000      -0.471      -0.353\n",
       "grade_13 Mansion       -1.8021      0.085    -21.093      0.000      -1.970      -1.635\n",
       "grade_3 Poor            0.4391      0.217      2.019      0.044       0.013       0.865\n",
       "grade_4 Low             0.0609      0.056      1.092      0.275      -0.048       0.170\n",
       "grade_5 Fair            0.0021      0.021      0.103      0.918      -0.039       0.043\n",
       "grade_6 Low Average     0.0049      0.013      0.378      0.706      -0.020       0.030\n",
       "grade_7 Average        -0.0085      0.011     -0.784      0.433      -0.030       0.013\n",
       "grade_8 Good            0.0245      0.010      2.474      0.013       0.005       0.044\n",
       "grade_9 Better          0.0526      0.010      5.380      0.000       0.033       0.072\n",
       "==============================================================================\n",
       "Omnibus:                     4760.913   Durbin-Watson:                   1.995\n",
       "Prob(Omnibus):                  0.000   Jarque-Bera (JB):            82637.572\n",
       "Skew:                          -1.126   Prob(JB):                         0.00\n",
       "Kurtosis:                      14.489   Cond. No.                     7.92e+07\n",
       "==============================================================================\n",
       "\n",
       "Notes:\n",
       "[1] R² is computed without centering (uncentered) since the model does not contain a constant.\n",
       "[2] Standard Errors assume that the covariance matrix of the errors is correctly specified.\n",
       "[3] The condition number is large, 7.92e+07. This might indicate that there are\n",
       "strong multicollinearity or other numerical problems.\n",
       "\"\"\""
      ]
     },
     "execution_count": 38,
     "metadata": {},
     "output_type": "execute_result"
    }
   ],
   "source": [
    "# Model with log-scaled y. R-squared improved ~3 points\n",
    "\n",
    "X = train_df.drop(columns=['price_sqft'])\n",
    "y = np.log(train_df['price_sqft'])\n",
    "model2 = sm.OLS(endog=y, exog=X).fit()\n",
    "model2.summary()"
   ]
  },
  {
   "cell_type": "code",
   "execution_count": null,
   "metadata": {},
   "outputs": [],
   "source": []
  },
  {
   "cell_type": "code",
   "execution_count": null,
   "metadata": {},
   "outputs": [],
   "source": []
  },
  {
   "cell_type": "code",
   "execution_count": null,
   "metadata": {},
   "outputs": [],
   "source": []
  },
  {
   "cell_type": "code",
   "execution_count": 40,
   "metadata": {},
   "outputs": [
    {
     "data": {
      "text/plain": [
       "29.0"
      ]
     },
     "execution_count": 40,
     "metadata": {},
     "output_type": "execute_result"
    }
   ],
   "source": [
    "kc_encoded['condition_Poor'].sum()\n",
    "\n",
    "# Maybe drop since pvalues are very high and minimal number of properties."
   ]
  },
  {
   "cell_type": "code",
   "execution_count": 41,
   "metadata": {},
   "outputs": [
    {
     "data": {
      "text/plain": [
       "6065.0"
      ]
     },
     "execution_count": 41,
     "metadata": {},
     "output_type": "execute_result"
    }
   ],
   "source": [
    "kc_encoded['grade_8 Good'].sum()\n",
    "\n",
    "# Too big a population to drop."
   ]
  },
  {
   "cell_type": "code",
   "execution_count": null,
   "metadata": {},
   "outputs": [],
   "source": []
  },
  {
   "cell_type": "code",
   "execution_count": null,
   "metadata": {},
   "outputs": [],
   "source": []
  },
  {
   "cell_type": "markdown",
   "metadata": {},
   "source": [
    "## Visualizing"
   ]
  },
  {
   "cell_type": "code",
   "execution_count": null,
   "metadata": {},
   "outputs": [],
   "source": [
    "fig, axes = plt.subplots(nrows=6, ncols=4, figsize=(16,20))\n",
    "\n",
    "\n",
    "for xcol, ax in zip(kc_encoded.columns[:], [x for v in axes for x in v]):\n",
    "    kc_encoded.plot.scatter(x=xcol, y='price_sqft', ax=ax, alpha=0.5, color='b')\n"
   ]
  },
  {
   "cell_type": "code",
   "execution_count": null,
   "metadata": {},
   "outputs": [],
   "source": [
    "import warnings\n",
    "warnings.filterwarnings('ignore')\n",
    "fig = plt.figure(figsize = (15,15))\n",
    "ax = fig.gca()\n",
    "kc_encoded.hist(ax = ax);"
   ]
  },
  {
   "cell_type": "code",
   "execution_count": null,
   "metadata": {},
   "outputs": [],
   "source": [
    "y.hist();"
   ]
  },
  {
   "cell_type": "code",
   "execution_count": null,
   "metadata": {},
   "outputs": [],
   "source": [
    "y_scld = np.log(y)\n",
    "y_scld.hist();"
   ]
  },
  {
   "cell_type": "code",
   "execution_count": null,
   "metadata": {},
   "outputs": [],
   "source": [
    "model2 = sm.OLS(y_scld, X).fit()\n",
    "model2.summary()"
   ]
  },
  {
   "cell_type": "markdown",
   "metadata": {},
   "source": [
    "# Full EDA"
   ]
  },
  {
   "cell_type": "code",
   "execution_count": null,
   "metadata": {},
   "outputs": [],
   "source": [
    "kc_housing = pd.read_csv('../data/kc_house_data.csv')\n"
   ]
  },
  {
   "cell_type": "code",
   "execution_count": null,
   "metadata": {},
   "outputs": [],
   "source": [
    "kc_housing.shape"
   ]
  },
  {
   "cell_type": "code",
   "execution_count": null,
   "metadata": {
    "scrolled": false
   },
   "outputs": [],
   "source": [
    "kc_housing.describe()"
   ]
  },
  {
   "cell_type": "code",
   "execution_count": null,
   "metadata": {},
   "outputs": [],
   "source": [
    "columns_of_note = list(kc_housing.columns)[3:8]"
   ]
  },
  {
   "cell_type": "code",
   "execution_count": null,
   "metadata": {},
   "outputs": [],
   "source": [
    "fig, axes = plt.subplots(nrows=2, ncols=3, figsize=(16,16))\n",
    "\n",
    "\n",
    "for xcol, ax in zip(kc_housing.columns[3:8], [x for v in axes for x in v]):\n",
    "    kc_housing.plot.scatter(x=xcol, y='price', ax=ax, alpha=0.5, color='b')\n"
   ]
  },
  {
   "cell_type": "code",
   "execution_count": null,
   "metadata": {},
   "outputs": [],
   "source": [
    "import warnings\n",
    "warnings.filterwarnings('ignore')\n",
    "fig = plt.figure(figsize = (15,15))\n",
    "ax = fig.gca()\n",
    "kc_housing.hist(ax = ax);"
   ]
  },
  {
   "cell_type": "code",
   "execution_count": null,
   "metadata": {},
   "outputs": [],
   "source": [
    "kc_housing.info()"
   ]
  },
  {
   "cell_type": "code",
   "execution_count": null,
   "metadata": {
    "scrolled": false
   },
   "outputs": [],
   "source": [
    "# Looking for NANs\n",
    "kc_housing.isna().sum()"
   ]
  },
  {
   "cell_type": "markdown",
   "metadata": {},
   "source": [
    "#### Added price/sqft feature"
   ]
  },
  {
   "cell_type": "code",
   "execution_count": null,
   "metadata": {},
   "outputs": [],
   "source": [
    "kc_housing['price_sqft'] = kc_housing['price']/kc_housing['sqft_living']"
   ]
  },
  {
   "cell_type": "code",
   "execution_count": null,
   "metadata": {},
   "outputs": [],
   "source": [
    "kc_housing.head()"
   ]
  },
  {
   "cell_type": "markdown",
   "metadata": {},
   "source": [
    "#### Addressing Waterfront"
   ]
  },
  {
   "cell_type": "markdown",
   "metadata": {},
   "source": [
    "There are ~2400 NA cells, no easy way to determine if waterfront or not. Recommend we drop this whole column--even if all of the NA cells should be YES for waterfront, that's less than 10% of our dataset, likely not meaningful to our analysis.\n",
    "\n",
    "Drop Waterfront."
   ]
  },
  {
   "cell_type": "code",
   "execution_count": null,
   "metadata": {},
   "outputs": [],
   "source": [
    "kc_housing['waterfront'].value_counts()"
   ]
  },
  {
   "cell_type": "code",
   "execution_count": null,
   "metadata": {},
   "outputs": [],
   "source": [
    "sum(kc_housing['waterfront'].isna())"
   ]
  },
  {
   "cell_type": "code",
   "execution_count": null,
   "metadata": {},
   "outputs": [],
   "source": [
    "kc_housing['waterfront'] = kc_housing['waterfront'].fillna('N/A')"
   ]
  },
  {
   "cell_type": "code",
   "execution_count": null,
   "metadata": {},
   "outputs": [],
   "source": [
    "kc_housing.sort_values(by='waterfront', ascending=False)"
   ]
  },
  {
   "cell_type": "markdown",
   "metadata": {},
   "source": [
    "#### Addressing View"
   ]
  },
  {
   "cell_type": "markdown",
   "metadata": {},
   "source": [
    "Doesn't seem to be many rows with na. Maybe encode as NA or preferably drop?+\n",
    "\n",
    "Drop rows with N/A"
   ]
  },
  {
   "cell_type": "code",
   "execution_count": null,
   "metadata": {},
   "outputs": [],
   "source": [
    "sum(kc_housing['view'].isna())"
   ]
  },
  {
   "cell_type": "code",
   "execution_count": null,
   "metadata": {},
   "outputs": [],
   "source": [
    "kc_housing['view'].value_counts()"
   ]
  },
  {
   "cell_type": "code",
   "execution_count": null,
   "metadata": {},
   "outputs": [],
   "source": [
    "# code to replace empty with N/A - add inplace if we decide to take this approach.\n",
    "kc_housing['view'] = kc_housing['view'].fillna('N/A')"
   ]
  },
  {
   "cell_type": "markdown",
   "metadata": {},
   "source": [
    "#### Addressing yr_renovated"
   ]
  },
  {
   "cell_type": "markdown",
   "metadata": {},
   "source": [
    "Absent from simple data, maybe we add on later\n",
    "\n",
    "~ 78% have 0 values, so assume they were not rennovated. I think rennovations are a meaningful datapoint, so we should encode this somehow. We could think about how recent the rennovation was to see if there is a meaningful relationship--for example, a home rennovated in 2020 is likely to sell better than a home rennovated only in 1980. Maybe we do some research on this and decide on a breakpoint for rennovated before/after? We could do a simple linear regression between yr renovated and price..."
   ]
  },
  {
   "cell_type": "code",
   "execution_count": null,
   "metadata": {},
   "outputs": [],
   "source": [
    "sum(kc_housing['yr_renovated'].isna())"
   ]
  },
  {
   "cell_type": "code",
   "execution_count": null,
   "metadata": {
    "scrolled": false
   },
   "outputs": [],
   "source": [
    "kc_housing['yr_renovated'].value_counts(sort=False).head(75)"
   ]
  },
  {
   "cell_type": "code",
   "execution_count": null,
   "metadata": {},
   "outputs": [],
   "source": [
    "kc_housing['yr_renovated'] = kc_housing['yr_renovated'].fillna('N/A')"
   ]
  },
  {
   "cell_type": "code",
   "execution_count": null,
   "metadata": {},
   "outputs": [],
   "source": [
    "#dropping N/A for now to make model function.\n",
    "kc_housing = kc_housing[(kc_housing.yr_renovated != 'N/A')]"
   ]
  },
  {
   "cell_type": "markdown",
   "metadata": {},
   "source": [
    "#### Duplicate Properties"
   ]
  },
  {
   "cell_type": "code",
   "execution_count": null,
   "metadata": {},
   "outputs": [],
   "source": [
    "# Looking for duplicate properties\n",
    "\n",
    "kc_housing['id'].duplicated().sum()"
   ]
  },
  {
   "cell_type": "code",
   "execution_count": null,
   "metadata": {},
   "outputs": [],
   "source": [
    "# Identify instances of the same property appearing more than once in the data set based on lattitude, longitude\n",
    "# How do we treat this? Might not matter since there is only ~4-5 months of data here. as long as listing date \n",
    "# is different, probably OK to treat these as unique listings.\n",
    "\n",
    "\n",
    "kc_housing[kc_housing.duplicated(subset=['id'], keep=False)].sort_values('id')"
   ]
  },
  {
   "cell_type": "markdown",
   "metadata": {},
   "source": [
    "#### Addressing grade\n",
    "\n",
    "This we need to encode as an ordinal."
   ]
  },
  {
   "cell_type": "code",
   "execution_count": null,
   "metadata": {},
   "outputs": [],
   "source": [
    "kc_housing['grade'].value_counts()"
   ]
  },
  {
   "cell_type": "code",
   "execution_count": null,
   "metadata": {},
   "outputs": [],
   "source": [
    "# Create new column for numerical grade. \n",
    "# Should either drop df['grade'] or omit it from clean df.\n",
    "kc_housing['grade_num']= kc_housing['grade'].apply(lambda x: x[:1]).astype(int)"
   ]
  },
  {
   "cell_type": "code",
   "execution_count": null,
   "metadata": {},
   "outputs": [],
   "source": [
    "kc_housing['grade_num']"
   ]
  },
  {
   "cell_type": "code",
   "execution_count": null,
   "metadata": {},
   "outputs": [],
   "source": [
    "kc_housing.info()"
   ]
  },
  {
   "cell_type": "markdown",
   "metadata": {},
   "source": [
    "#### Addressing sqft_basement"
   ]
  },
  {
   "cell_type": "markdown",
   "metadata": {},
   "source": [
    "Recommend we drop rows with N/A since we don't have an easy way to encode.\n",
    "We have 454 unknown values here. need to drop or encode somehow. Maybe has basement or no basement?\n"
   ]
  },
  {
   "cell_type": "code",
   "execution_count": null,
   "metadata": {
    "scrolled": true
   },
   "outputs": [],
   "source": [
    "kc_housing['sqft_basement'].value_counts()"
   ]
  },
  {
   "cell_type": "code",
   "execution_count": null,
   "metadata": {},
   "outputs": [],
   "source": [
    "kc_housing = kc_housing[(kc_housing.sqft_basement != '?')]"
   ]
  },
  {
   "cell_type": "code",
   "execution_count": null,
   "metadata": {},
   "outputs": [],
   "source": [
    "kc_housing['sqft_basement'].value_counts()"
   ]
  },
  {
   "cell_type": "markdown",
   "metadata": {},
   "source": [
    "# Encoding Categoricals"
   ]
  },
  {
   "cell_type": "code",
   "execution_count": null,
   "metadata": {
    "scrolled": false
   },
   "outputs": [],
   "source": [
    "# Identify catgeorical values & create new df with only the categorical columns.\n",
    "categoricals = ['bedrooms', 'floors', 'condition', 'grade', 'view','waterfront']\n",
    "cat_df = kc_housing[categoricals]\n",
    "cat_df.head()"
   ]
  },
  {
   "cell_type": "code",
   "execution_count": null,
   "metadata": {},
   "outputs": [],
   "source": [
    "# OneHot encoding for categorical variables. Drop first column to avoid perfect multicolinearity.\n",
    "ohe = OneHotEncoder(drop='first')\n",
    "categorical_cats = ohe.fit_transform(cat_df)\n",
    "categorical_cats.todense()\n",
    "categorical_df = pd.DataFrame(categorical_cats.todense(), columns=ohe.get_feature_names(categoricals))\n",
    "categorical_df.head()"
   ]
  },
  {
   "cell_type": "code",
   "execution_count": null,
   "metadata": {
    "scrolled": true
   },
   "outputs": [],
   "source": [
    "categorical_df.shape"
   ]
  },
  {
   "cell_type": "code",
   "execution_count": null,
   "metadata": {},
   "outputs": [],
   "source": [
    "kc_housing.shape"
   ]
  },
  {
   "cell_type": "code",
   "execution_count": null,
   "metadata": {},
   "outputs": [],
   "source": [
    "# Append categorical dummies to original dataframe, and drop origical categorical columns.\n",
    "data = kc_housing.drop(columns=categoricals)\n",
    "kc_encoded = pd.concat([data.reset_index(drop=True), categorical_df.reset_index(drop=True)], axis=1)"
   ]
  },
  {
   "cell_type": "code",
   "execution_count": null,
   "metadata": {},
   "outputs": [],
   "source": [
    "kc_encoded.shape"
   ]
  },
  {
   "cell_type": "code",
   "execution_count": null,
   "metadata": {},
   "outputs": [],
   "source": [
    "kc_encoded.info()"
   ]
  },
  {
   "cell_type": "code",
   "execution_count": null,
   "metadata": {},
   "outputs": [],
   "source": []
  },
  {
   "cell_type": "markdown",
   "metadata": {},
   "source": [
    "# Nonsense Model with all columns"
   ]
  },
  {
   "cell_type": "code",
   "execution_count": null,
   "metadata": {},
   "outputs": [],
   "source": [
    "X = kc_encoded.drop(columns=['date', 'lat', 'long', 'id','price_sqft','yr_renovated','sqft_basement'])\n",
    "y = kc_encoded['price_sqft']"
   ]
  },
  {
   "cell_type": "code",
   "execution_count": null,
   "metadata": {},
   "outputs": [],
   "source": [
    "X.isna().sum()"
   ]
  },
  {
   "cell_type": "code",
   "execution_count": null,
   "metadata": {
    "scrolled": false
   },
   "outputs": [],
   "source": [
    "\n",
    "model = sm.OLS(endog=y, exog=X).fit()\n",
    "model.summary()"
   ]
  },
  {
   "cell_type": "code",
   "execution_count": null,
   "metadata": {},
   "outputs": [],
   "source": []
  }
 ],
 "metadata": {
  "kernelspec": {
   "display_name": "Python (learn-env)",
   "language": "python",
   "name": "learn-env"
  },
  "language_info": {
   "codemirror_mode": {
    "name": "ipython",
    "version": 3
   },
   "file_extension": ".py",
   "mimetype": "text/x-python",
   "name": "python",
   "nbconvert_exporter": "python",
   "pygments_lexer": "ipython3",
   "version": "3.8.5"
  }
 },
 "nbformat": 4,
 "nbformat_minor": 4
}
